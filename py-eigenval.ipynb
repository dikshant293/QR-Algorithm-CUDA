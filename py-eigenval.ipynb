{
 "cells": [
  {
   "cell_type": "code",
   "execution_count": null,
   "metadata": {},
   "outputs": [
    {
     "name": "stdout",
     "output_type": "stream",
     "text": [
      "Elapsed time during the whole program in seconds: 0.005700588226318359\n",
      "Eignevalues sum: 62475.000000000015\n",
      "# of iterations: 10\n",
      "Eigenvalues for A: \n",
      " (62474.99999999999+0j)\n"
     ]
    }
   ],
   "source": [
    "n = 50\n",
    "\n",
    "import time\n",
    "import numpy as np\n",
    "\n",
    "def makesimilar(A):\n",
    "    Q, R = np.linalg.qr(A)\n",
    "    B = np.dot(R, Q)\n",
    "    return B\n",
    "\n",
    "def eig_qr(A):\n",
    "    B = makesimilar(A)\n",
    "    iters = 10\n",
    "    leig = B[-1, -1]\n",
    "    diff = 1\n",
    "    for _ in range(iters):\n",
    "        B = makesimilar(B)\n",
    "        diff = abs(leig - B[-1, -1])\n",
    "        leig = B[-1, -1]\n",
    "    # print(f\"A_{iters} = \\n{B}\")\n",
    "    eigs = [B[i, i] for i in range(len(B))]\n",
    "    return eigs, iters\n",
    "t1_start = time.time()\n",
    "A = np.reshape(list(range(n*n)),(n,n))\n",
    "eigs, iters = eig_qr(A)\n",
    "t1_stop = time.time()\n",
    "print(\"Elapsed time during the whole program in seconds:\",\n",
    "                                         t1_stop-t1_start)\n",
    "print(f\"Eignevalues sum: {np.sum(eigs)}\")\n",
    "print(f\"# of iterations: {iters}\")\n",
    "A_eigvals, A_eigvecs = np.linalg.eig(A)\n",
    "print(f\"Eigenvalues for A: \\n {sum(A_eigvals)}\")"
   ]
  }
 ],
 "metadata": {
  "kernelspec": {
   "display_name": "Python 3",
   "language": "python",
   "name": "python3"
  },
  "language_info": {
   "codemirror_mode": {
    "name": "ipython",
    "version": 3
   },
   "file_extension": ".py",
   "mimetype": "text/x-python",
   "name": "python",
   "nbconvert_exporter": "python",
   "pygments_lexer": "ipython3",
   "version": "3.10.12"
  }
 },
 "nbformat": 4,
 "nbformat_minor": 2
}
